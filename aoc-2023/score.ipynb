{
 "cells": [
  {
   "cell_type": "code",
   "execution_count": null,
   "metadata": {},
   "outputs": [],
   "source": [
    "data = {}"
   ]
  },
  {
   "cell_type": "code",
   "execution_count": null,
   "metadata": {},
   "outputs": [],
   "source": [
    "participants = [data[\"members\"][x] for x in data[\"members\"]]\n",
    "\n",
    "names = [x[\"name\"] for x in participants]\n",
    "\n",
    "names"
   ]
  },
  {
   "cell_type": "code",
   "execution_count": null,
   "metadata": {},
   "outputs": [],
   "source": [
    "def day_score(day):\n",
    "    part_1 = []\n",
    "    part_2 = []\n",
    "\n",
    "    for participant in participants:\n",
    "        if str(day) in participant[\"completion_day_level\"]:\n",
    "            part_1.append([participant[\"completion_day_level\"][str(day)][\"1\"][\"get_star_ts\"], participant[\"name\"]])\n",
    "            if \"2\" in participant[\"completion_day_level\"][str(day)]:\n",
    "                part_2.append([participant[\"completion_day_level\"][str(day)][\"2\"][\"get_star_ts\"], participant[\"name\"]])\n",
    "\n",
    "    part_1.sort()\n",
    "    part_2.sort()\n",
    "\n",
    "    return [part_1, part_2]\n"
   ]
  },
  {
   "cell_type": "code",
   "execution_count": null,
   "metadata": {},
   "outputs": [],
   "source": [
    "for day in range(1, 25):\n",
    "    score = day_score(day)\n",
    "    print(\"Day\", day)\n",
    "    print(\"Part 1\")\n",
    "    print([d[1] for d in score[0]])\n",
    "    print(\"Part 2\")\n",
    "    print([d[1] for d in score[1]])\n",
    "    print()"
   ]
  }
 ],
 "metadata": {
  "kernelspec": {
   "display_name": "Python 3",
   "language": "python",
   "name": "python3"
  },
  "language_info": {
   "codemirror_mode": {
    "name": "ipython",
    "version": 3
   },
   "file_extension": ".py",
   "mimetype": "text/x-python",
   "name": "python",
   "nbconvert_exporter": "python",
   "pygments_lexer": "ipython3",
   "version": "3.11.5"
  }
 },
 "nbformat": 4,
 "nbformat_minor": 2
}
